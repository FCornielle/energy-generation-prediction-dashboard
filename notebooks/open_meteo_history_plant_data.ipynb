{
 "cells": [
  {
   "cell_type": "code",
   "execution_count": null,
   "metadata": {},
   "outputs": [
    {
     "name": "stderr",
     "output_type": "stream",
     "text": [
      "C:\\Users\\ferna\\AppData\\Local\\Temp\\ipykernel_30312\\602423384.py:60: UserWarning: Parsing dates in %m/%d/%Y format when dayfirst=True was specified. Pass `dayfirst=False` or specify a format to silence this warning.\n",
      "  start_date = pd.to_datetime(row[\"FirstAppearance\"], dayfirst=True).strftime(\"%Y-%m-%d\")\n",
      "C:\\Users\\ferna\\AppData\\Local\\Temp\\ipykernel_30312\\602423384.py:60: UserWarning: Parsing dates in %m/%d/%Y format when dayfirst=True was specified. Pass `dayfirst=False` or specify a format to silence this warning.\n",
      "  start_date = pd.to_datetime(row[\"FirstAppearance\"], dayfirst=True).strftime(\"%Y-%m-%d\")\n",
      "C:\\Users\\ferna\\AppData\\Local\\Temp\\ipykernel_30312\\602423384.py:60: UserWarning: Parsing dates in %m/%d/%Y format when dayfirst=True was specified. Pass `dayfirst=False` or specify a format to silence this warning.\n",
      "  start_date = pd.to_datetime(row[\"FirstAppearance\"], dayfirst=True).strftime(\"%Y-%m-%d\")\n"
     ]
    },
    {
     "name": "stdout",
     "output_type": "stream",
     "text": [
      "▶️ Processing parque eolico agua clara: 2019-02-22 → 2025-03-22\n",
      "✅ Saved parque_eolico_agua_clara.parquet — calls today: 1\n",
      "▶️ Processing parque eolico de matafongo: 2019-04-26 → 2025-03-22\n",
      "✅ Saved parque_eolico_de_matafongo.parquet — calls today: 2\n",
      "▶️ Processing parque eolico guanillo: 2019-04-26 → 2025-03-22\n",
      "✅ Saved parque_eolico_guanillo.parquet — calls today: 3\n",
      "▶️ Processing parque eolico larimar: 2016-07-05 → 2025-03-22\n",
      "✅ Saved parque_eolico_larimar.parquet — calls today: 4\n",
      "▶️ Processing parque eolico larimar ii: 2018-10-16 → 2025-03-22\n"
     ]
    },
    {
     "name": "stderr",
     "output_type": "stream",
     "text": [
      "C:\\Users\\ferna\\AppData\\Local\\Temp\\ipykernel_30312\\602423384.py:60: UserWarning: Parsing dates in %m/%d/%Y format when dayfirst=True was specified. Pass `dayfirst=False` or specify a format to silence this warning.\n",
      "  start_date = pd.to_datetime(row[\"FirstAppearance\"], dayfirst=True).strftime(\"%Y-%m-%d\")\n",
      "C:\\Users\\ferna\\AppData\\Local\\Temp\\ipykernel_30312\\602423384.py:60: UserWarning: Parsing dates in %m/%d/%Y format when dayfirst=True was specified. Pass `dayfirst=False` or specify a format to silence this warning.\n",
      "  start_date = pd.to_datetime(row[\"FirstAppearance\"], dayfirst=True).strftime(\"%Y-%m-%d\")\n"
     ]
    },
    {
     "name": "stdout",
     "output_type": "stream",
     "text": [
      "✅ Saved parque_eolico_larimar_ii.parquet — calls today: 5\n",
      "▶️ Processing parque eolico los guzmancitos: 2019-04-26 → 2025-03-22\n",
      "✅ Saved parque_eolico_los_guzmancitos.parquet — calls today: 6\n",
      "▶️ Processing parque eolico los guzmancitos 2: 2022-04-11 → 2025-03-22\n",
      "✅ Saved parque_eolico_los_guzmancitos_2.parquet — calls today: 7\n",
      "▶️ Processing parque fotovoltaico bayasol: 2021-12-03 → 2025-03-22\n",
      "✅ Saved parque_fotovoltaico_bayasol.parquet — calls today: 8\n",
      "▶️ Processing parque fotovoltaico calabaza: 2023-05-26 → 2025-03-22\n"
     ]
    },
    {
     "name": "stderr",
     "output_type": "stream",
     "text": [
      "C:\\Users\\ferna\\AppData\\Local\\Temp\\ipykernel_30312\\602423384.py:60: UserWarning: Parsing dates in %m/%d/%Y format when dayfirst=True was specified. Pass `dayfirst=False` or specify a format to silence this warning.\n",
      "  start_date = pd.to_datetime(row[\"FirstAppearance\"], dayfirst=True).strftime(\"%Y-%m-%d\")\n",
      "C:\\Users\\ferna\\AppData\\Local\\Temp\\ipykernel_30312\\602423384.py:60: UserWarning: Parsing dates in %m/%d/%Y format when dayfirst=True was specified. Pass `dayfirst=False` or specify a format to silence this warning.\n",
      "  start_date = pd.to_datetime(row[\"FirstAppearance\"], dayfirst=True).strftime(\"%Y-%m-%d\")\n",
      "C:\\Users\\ferna\\AppData\\Local\\Temp\\ipykernel_30312\\602423384.py:60: UserWarning: Parsing dates in %m/%d/%Y format when dayfirst=True was specified. Pass `dayfirst=False` or specify a format to silence this warning.\n",
      "  start_date = pd.to_datetime(row[\"FirstAppearance\"], dayfirst=True).strftime(\"%Y-%m-%d\")\n",
      "C:\\Users\\ferna\\AppData\\Local\\Temp\\ipykernel_30312\\602423384.py:60: UserWarning: Parsing dates in %m/%d/%Y format when dayfirst=True was specified. Pass `dayfirst=False` or specify a format to silence this warning.\n",
      "  start_date = pd.to_datetime(row[\"FirstAppearance\"], dayfirst=True).strftime(\"%Y-%m-%d\")\n",
      "C:\\Users\\ferna\\AppData\\Local\\Temp\\ipykernel_30312\\602423384.py:60: UserWarning: Parsing dates in %m/%d/%Y format when dayfirst=True was specified. Pass `dayfirst=False` or specify a format to silence this warning.\n",
      "  start_date = pd.to_datetime(row[\"FirstAppearance\"], dayfirst=True).strftime(\"%Y-%m-%d\")\n"
     ]
    },
    {
     "name": "stdout",
     "output_type": "stream",
     "text": [
      "✅ Saved parque_fotovoltaico_calabaza.parquet — calls today: 9\n",
      "▶️ Processing parque fotovoltaico cumayasa 1: 2023-05-09 → 2025-03-22\n",
      "✅ Saved parque_fotovoltaico_cumayasa_1.parquet — calls today: 10\n",
      "▶️ Processing parque fotovoltaico cumayasa 2: 2023-05-09 → 2025-03-22\n",
      "✅ Saved parque_fotovoltaico_cumayasa_2.parquet — calls today: 11\n",
      "▶️ Processing parque fotovoltaico la victoria: 2024-11-22 → 2025-03-22\n",
      "✅ Saved parque_fotovoltaico_la_victoria.parquet — calls today: 12\n",
      "▶️ Processing parque fotovoltaico los negros: 2023-10-18 → 2025-03-22\n",
      "✅ Saved parque_fotovoltaico_los_negros.parquet — calls today: 13\n",
      "▶️ Processing parque fotovoltaico maranatha fase i: 2024-06-17 → 2025-03-22\n",
      "✅ Saved parque_fotovoltaico_maranatha_fase_i.parquet — calls today: 14\n",
      "▶️ Processing parque fotovoltaico mata de palma: 2019-04-26 → 2025-03-22\n",
      "✅ Saved parque_fotovoltaico_mata_de_palma.parquet — calls today: 15\n",
      "▶️ Processing parque fotovoltaico matrisol: 2023-07-27 → 2025-03-22\n",
      "✅ Saved parque_fotovoltaico_matrisol.parquet — calls today: 16\n",
      "▶️ Processing parque fotovoltaico mirasol: 2024-11-27 → 2025-03-22\n"
     ]
    },
    {
     "name": "stderr",
     "output_type": "stream",
     "text": [
      "C:\\Users\\ferna\\AppData\\Local\\Temp\\ipykernel_30312\\602423384.py:60: UserWarning: Parsing dates in %m/%d/%Y format when dayfirst=True was specified. Pass `dayfirst=False` or specify a format to silence this warning.\n",
      "  start_date = pd.to_datetime(row[\"FirstAppearance\"], dayfirst=True).strftime(\"%Y-%m-%d\")\n",
      "C:\\Users\\ferna\\AppData\\Local\\Temp\\ipykernel_30312\\602423384.py:60: UserWarning: Parsing dates in %m/%d/%Y format when dayfirst=True was specified. Pass `dayfirst=False` or specify a format to silence this warning.\n",
      "  start_date = pd.to_datetime(row[\"FirstAppearance\"], dayfirst=True).strftime(\"%Y-%m-%d\")\n"
     ]
    },
    {
     "name": "stdout",
     "output_type": "stream",
     "text": [
      "✅ Saved parque_fotovoltaico_mirasol.parquet — calls today: 17\n",
      "▶️ Processing parque fotovoltaico montecristi solar 1: 2018-08-28 → 2025-03-22\n"
     ]
    },
    {
     "name": "stderr",
     "output_type": "stream",
     "text": [
      "C:\\Users\\ferna\\AppData\\Local\\Temp\\ipykernel_30312\\602423384.py:60: UserWarning: Parsing dates in %m/%d/%Y format when dayfirst=True was specified. Pass `dayfirst=False` or specify a format to silence this warning.\n",
      "  start_date = pd.to_datetime(row[\"FirstAppearance\"], dayfirst=True).strftime(\"%Y-%m-%d\")\n"
     ]
    },
    {
     "name": "stdout",
     "output_type": "stream",
     "text": [
      "✅ Saved parque_fotovoltaico_montecristi_solar_1.parquet — calls today: 18\n",
      "▶️ Processing parque fotovoltaico sajoma: 2024-08-13 → 2025-03-22\n"
     ]
    },
    {
     "name": "stderr",
     "output_type": "stream",
     "text": [
      "C:\\Users\\ferna\\AppData\\Local\\Temp\\ipykernel_30312\\602423384.py:60: UserWarning: Parsing dates in %m/%d/%Y format when dayfirst=True was specified. Pass `dayfirst=False` or specify a format to silence this warning.\n",
      "  start_date = pd.to_datetime(row[\"FirstAppearance\"], dayfirst=True).strftime(\"%Y-%m-%d\")\n"
     ]
    },
    {
     "name": "stdout",
     "output_type": "stream",
     "text": [
      "✅ Saved parque_fotovoltaico_sajoma.parquet — calls today: 19\n",
      "▶️ Processing parque fotovoltaico santanasol: 2022-05-27 → 2025-03-22\n"
     ]
    },
    {
     "name": "stderr",
     "output_type": "stream",
     "text": [
      "C:\\Users\\ferna\\AppData\\Local\\Temp\\ipykernel_30312\\602423384.py:60: UserWarning: Parsing dates in %m/%d/%Y format when dayfirst=True was specified. Pass `dayfirst=False` or specify a format to silence this warning.\n",
      "  start_date = pd.to_datetime(row[\"FirstAppearance\"], dayfirst=True).strftime(\"%Y-%m-%d\")\n"
     ]
    },
    {
     "name": "stdout",
     "output_type": "stream",
     "text": [
      "✅ Saved parque_fotovoltaico_santanasol.parquet — calls today: 20\n",
      "▶️ Processing parque fotovoltaico washington capital 2: 2024-11-29 → 2025-03-22\n",
      "❌ Unrecoverable error for parque fotovoltaico washington capital 2: {'error': True, 'reason': 'Minutely API request limit exceeded. Please try again in one minute.'}\n",
      "▶️ Processing parque fotovoltaico washington capital 3: 2024-11-29 → 2025-03-22\n"
     ]
    },
    {
     "name": "stderr",
     "output_type": "stream",
     "text": [
      "C:\\Users\\ferna\\AppData\\Local\\Temp\\ipykernel_30312\\602423384.py:60: UserWarning: Parsing dates in %m/%d/%Y format when dayfirst=True was specified. Pass `dayfirst=False` or specify a format to silence this warning.\n",
      "  start_date = pd.to_datetime(row[\"FirstAppearance\"], dayfirst=True).strftime(\"%Y-%m-%d\")\n",
      "C:\\Users\\ferna\\AppData\\Local\\Temp\\ipykernel_30312\\602423384.py:60: UserWarning: Parsing dates in %m/%d/%Y format when dayfirst=True was specified. Pass `dayfirst=False` or specify a format to silence this warning.\n",
      "  start_date = pd.to_datetime(row[\"FirstAppearance\"], dayfirst=True).strftime(\"%Y-%m-%d\")\n"
     ]
    },
    {
     "name": "stdout",
     "output_type": "stream",
     "text": [
      "❌ Unrecoverable error for parque fotovoltaico washington capital 3: {'error': True, 'reason': 'Minutely API request limit exceeded. Please try again in one minute.'}\n",
      "✅ All plants processed.\n"
     ]
    }
   ],
   "source": [
    "import os\n",
    "import time\n",
    "import datetime\n",
    "import pandas as pd\n",
    "\n",
    "import openmeteo_requests\n",
    "import requests_cache\n",
    "from retry_requests import retry\n",
    "\n",
    "# ─── CONFIGURATION ───────────────────────────────────────────────────────────────\n",
    "CENTRAL_INFO_CSV = \"../data/lookup/central_info.csv\"\n",
    "OUTPUT_FOLDER     = \"../data/raw/open_mete_data\"\n",
    "MAX_DAILY_CALLS   = 10000\n",
    "HOURLY_VARS = [\n",
    "    \"temperature_2m\",\"shortwave_radiation\",\"diffuse_radiation\",\"global_tilted_irradiance\",\n",
    "    \"shortwave_radiation_instant\",\"diffuse_radiation_instant\",\"global_tilted_irradiance_instant\",\n",
    "    \"direct_radiation\",\"direct_normal_irradiance\",\"terrestrial_radiation\",\n",
    "    \"direct_radiation_instant\",\"direct_normal_irradiance_instant\",\"terrestrial_radiation_instant\",\n",
    "    \"relative_humidity_2m\",\"dew_point_2m\",\"apparent_temperature\",\"precipitation\",\"rain\",\n",
    "    \"pressure_msl\",\"surface_pressure\",\"et0_fao_evapotranspiration\",\n",
    "    \"vapour_pressure_deficit\",\"cloud_cover\",\"cloud_cover_low\",\"cloud_cover_mid\",\n",
    "    \"cloud_cover_high\",\"wind_speed_10m\",\"wind_direction_10m\",\n",
    "    \"wind_gusts_10m\"\n",
    "]\n",
    "PLANTS_OF_INTEREST = [\n",
    "    \"parque eolico agua clara\",\"parque eolico de matafongo\",\"parque eolico guanillo\",\n",
    "    \"parque eolico larimar\",\"parque eolico larimar ii\",\"parque eolico los guzmancitos\",\n",
    "    \"parque eolico los guzmancitos 2\",\"parque fotovoltaico bayasol\",\"parque fotovoltaico calabaza\",\n",
    "    \"parque fotovoltaico cumayasa 1\",\"parque fotovoltaico cumayasa 2\",\"parque fotovoltaico la victoria\",\n",
    "    \"parque fotovoltaico los negros\",\"parque fotovoltaico maranatha fase i\",\"parque fotovoltaico mata de palma\",\n",
    "    \"parque fotovoltaico matrisol\",\"parque fotovoltaico mirasol\",\"parque fotovoltaico montecristi solar 1\",\n",
    "    \"parque fotovoltaico sajoma\",\"parque fotovoltaico santanasol\",\"parque fotovoltaico washington capital 2\",\n",
    "    \"parque fotovoltaico washington capital 3\"\n",
    "]\n",
    "\n",
    "# ─── SETUP Open‑Meteo CLIENT ──────────────────────────────────────────────────────\n",
    "cache = requests_cache.CachedSession('.cache', expire_after=-1)\n",
    "session = retry(cache, retries=3, backoff_factor=0.2)\n",
    "client = openmeteo_requests.Client(session=session)\n",
    "\n",
    "# ─── LOAD AND FILTER CENTRAL INFO ─────────────────────────────────────────────────\n",
    "df = pd.read_csv(CENTRAL_INFO_CSV)\n",
    "df_filtered = df[df[\"CENTRAL\"].str.lower().isin([p.lower() for p in PLANTS_OF_INTEREST])].copy()\n",
    "\n",
    "os.makedirs(OUTPUT_FOLDER, exist_ok=True)\n",
    "today = datetime.datetime.utcnow().strftime(\"%Y-%m-%d\")\n",
    "calls_today = 0\n",
    "pending = df_filtered.copy()\n",
    "\n",
    "# ─── MAIN LOOP ───────────────────────────────────────────────────────────────────\n",
    "while not pending.empty:\n",
    "    for idx, row in pending.iterrows():\n",
    "        if calls_today >= MAX_DAILY_CALLS:\n",
    "            print(\"✅ Daily API call limit reached — stopping.\")\n",
    "            pending = pending.iloc[0:0]\n",
    "            break\n",
    "\n",
    "        name = row[\"CENTRAL\"]\n",
    "        lat, lon = row[\"Latitud\"], row[\"Longitud\"]\n",
    "        start_date = pd.to_datetime(row[\"FirstAppearance\"], dayfirst=True).strftime(\"%Y-%m-%d\")\n",
    "        print(f\"▶️ Processing {name}: {start_date} → {today}\")\n",
    "\n",
    "        params = {\n",
    "            \"latitude\": lat,\n",
    "            \"longitude\": lon,\n",
    "            \"start_date\": start_date,\n",
    "            \"end_date\": today,\n",
    "            \"hourly\": HOURLY_VARS\n",
    "        }\n",
    "\n",
    "        retry_count = 0\n",
    "        while retry_count <= 5:\n",
    "            try:\n",
    "                response = client.weather_api(\"https://archive-api.open-meteo.com/v1/archive\", params=params)[0]\n",
    "                calls_today += 1\n",
    "\n",
    "                hourly = response.Hourly()\n",
    "                times = pd.date_range(\n",
    "                    start=pd.to_datetime(hourly.Time(), unit=\"s\", utc=True),\n",
    "                    end=pd.to_datetime(hourly.TimeEnd(), unit=\"s\", utc=True),\n",
    "                    freq=pd.Timedelta(seconds=hourly.Interval()), inclusive=\"left\"\n",
    "                )\n",
    "\n",
    "                data = {\"date\": times}\n",
    "                for i, var in enumerate(HOURLY_VARS):\n",
    "                    var_obj = hourly.Variables(i)\n",
    "                    data[var] = var_obj.ValuesAsNumpy() if var_obj else [float(\"nan\")] * len(times)\n",
    "\n",
    "                df_out = pd.DataFrame(data)\n",
    "                filename = f\"{name.lower().replace(' ','_')}.parquet\"\n",
    "                df_out.to_parquet(os.path.join(OUTPUT_FOLDER, filename), index=False)\n",
    "                print(f\"✅ Saved {filename} — calls today: {calls_today}\")\n",
    "                pending = pending.drop(idx)\n",
    "                break\n",
    "\n",
    "            except Exception as e:\n",
    "                message = str(e)\n",
    "                if \"Hourly API request limit exceeded\" in message:\n",
    "                    now = datetime.datetime.utcnow()\n",
    "                    next_hour = (now.replace(minute=0, second=0, microsecond=0) + datetime.timedelta(hours=1))\n",
    "                    wait_secs = (next_hour - now).total_seconds() + 5\n",
    "                    print(f\"⚠️ Hourly rate limit hit — sleeping {int(wait_secs/60)} minutes until {next_hour} UTC\")\n",
    "                    time.sleep(wait_secs)\n",
    "                    retry_count += 1\n",
    "                else:\n",
    "                    print(f\"❌ Unrecoverable error for {name}: {message}\")\n",
    "                    pending = pending.drop(idx)\n",
    "                    break\n",
    "\n",
    "print(\"✅ All plants processed.\")\n"
   ]
  }
 ],
 "metadata": {
  "kernelspec": {
   "display_name": "my_environment",
   "language": "python",
   "name": "python3"
  },
  "language_info": {
   "codemirror_mode": {
    "name": "ipython",
    "version": 3
   },
   "file_extension": ".py",
   "mimetype": "text/x-python",
   "name": "python",
   "nbconvert_exporter": "python",
   "pygments_lexer": "ipython3",
   "version": "3.11.9"
  }
 },
 "nbformat": 4,
 "nbformat_minor": 2
}
